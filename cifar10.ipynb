{
 "cells": [
  {
   "cell_type": "markdown",
   "metadata": {},
   "source": [
    "# CIFAR-10 Benchmarking"
   ]
  },
  {
   "cell_type": "code",
   "execution_count": null,
   "metadata": {},
   "outputs": [],
   "source": [
    "from torcheval.metrics.functional import multiclass_accuracy\n",
    "from sklearn.metrics import accuracy_score\n",
    "from copy import deepcopy\n",
    "\n",
    "import matplotlib.pyplot as plt\n",
    "import seaborn as sns\n",
    "import pandas as pd\n",
    "import numpy as np\n",
    "import torchvision\n",
    "import random\n",
    "import torch\n",
    "import time\n",
    "import os"
   ]
  },
  {
   "cell_type": "code",
   "execution_count": null,
   "metadata": {},
   "outputs": [],
   "source": [
    "SEED = 42\n",
    "random.seed(SEED)\n",
    "_ = torch.manual_seed(SEED)\n",
    "_ = np.random.seed(SEED)\n",
    "_ = os.environ[\"PYTHONHASHSEED\"] = str(SEED)\n",
    "if torch.cuda.is_available():\n",
    "    torch.cuda.manual_seed(SEED)\n",
    "    torch.cuda.manual_seed_all(SEED)"
   ]
  },
  {
   "cell_type": "code",
   "execution_count": null,
   "metadata": {},
   "outputs": [],
   "source": [
    "DEVICE = (\n",
    "    torch.device(\"cuda\")\n",
    "    if torch.cuda.is_available()\n",
    "    else (\n",
    "        torch.device(\"mps\")\n",
    "        if torch.backends.mps.is_available()\n",
    "        else torch.device(\"cpu\")\n",
    "    )\n",
    ")\n",
    "MEAN = [0.4914, 0.4822, 0.4465]\n",
    "STD = [0.2023, 0.1994, 0.2010]\n",
    "VIZ_FOLDER = \"visualizations\"\n",
    "WEIGHTS_FOLDER = \"weights\"\n",
    "METRICS_FOLDER = \"metrics\"\n",
    "print(f\"Hardware Accelerator - {DEVICE.type}\")"
   ]
  },
  {
   "cell_type": "code",
   "execution_count": null,
   "metadata": {},
   "outputs": [],
   "source": [
    "os.makedirs(VIZ_FOLDER, exist_ok=True)\n",
    "os.makedirs(WEIGHTS_FOLDER, exist_ok=True)\n",
    "os.makedirs(METRICS_FOLDER, exist_ok=True)"
   ]
  },
  {
   "cell_type": "code",
   "execution_count": null,
   "metadata": {},
   "outputs": [],
   "source": [
    "denorm = lambda x: torch.clamp(\n",
    "    x * torch.tensor(STD).view(-1, 1, 1) + torch.tensor(MEAN).view(-1, 1, 1),\n",
    "    min=0.0,\n",
    "    max=1.0,\n",
    ")"
   ]
  },
  {
   "cell_type": "code",
   "execution_count": null,
   "metadata": {},
   "outputs": [],
   "source": [
    "train_data_transforms = torchvision.transforms.Compose(\n",
    "    [\n",
    "        torchvision.transforms.RandomHorizontalFlip(0.5),\n",
    "        torchvision.transforms.RandomAutocontrast(0.5),\n",
    "        torchvision.transforms.ToTensor(),\n",
    "        torchvision.transforms.Normalize(MEAN, STD),\n",
    "    ]\n",
    ")\n",
    "test_data_transforms = torchvision.transforms.Compose(\n",
    "    [torchvision.transforms.ToTensor(), torchvision.transforms.Normalize(MEAN, STD)]\n",
    ")\n",
    "train_dataset = torchvision.datasets.CIFAR10(\n",
    "    root=\"./data\", train=True, download=True, transform=train_data_transforms\n",
    ")\n",
    "test_dataset = torchvision.datasets.CIFAR10(\n",
    "    root=\"./data\", train=False, download=True, transform=test_data_transforms\n",
    ")\n",
    "classes = train_dataset.classes\n",
    "print(f\"Size of train data - {len(train_dataset)}\")\n",
    "print(f\"Size of test data - {len(test_dataset)}\")\n",
    "print(f\"Classes in dataset - {', '.join(train_dataset.classes)}\")"
   ]
  },
  {
   "cell_type": "code",
   "execution_count": null,
   "metadata": {},
   "outputs": [],
   "source": [
    "plt.figure(figsize=(7, 7))\n",
    "for i in range(9):\n",
    "    image = denorm(train_dataset[i][0]).permute(1, 2, 0).numpy()\n",
    "    plt.subplot(3, 3, i + 1)\n",
    "    plt.imshow(image)\n",
    "    plt.title(f\"Label: {classes[train_dataset[i][1]]}\")\n",
    "    plt.axis(\"off\")\n",
    "plt.show()"
   ]
  },
  {
   "cell_type": "code",
   "execution_count": null,
   "metadata": {},
   "outputs": [],
   "source": [
    "plt.figure(figsize=(7, 7))\n",
    "for i in range(9):\n",
    "    image = denorm(test_dataset[i][0]).permute(1, 2, 0).numpy()\n",
    "    plt.subplot(3, 3, i + 1)\n",
    "    plt.imshow(image)\n",
    "    plt.title(f\"Label: {classes[test_dataset[i][1]]}\")\n",
    "    plt.axis(\"off\")\n",
    "plt.show()"
   ]
  },
  {
   "cell_type": "code",
   "execution_count": null,
   "metadata": {},
   "outputs": [],
   "source": [
    "class DepthwiseSeparableConv(torch.nn.Module):\n",
    "    def __init__(self, in_channels, out_channels):\n",
    "        super(DepthwiseSeparableConv, self).__init__()\n",
    "        self.depthwise = torch.nn.Conv2d(\n",
    "            in_channels,\n",
    "            in_channels,\n",
    "            kernel_size=3,\n",
    "            stride=1,\n",
    "            padding=1,\n",
    "            groups=in_channels,\n",
    "            bias=False,\n",
    "        )\n",
    "        self.pointwise = torch.nn.Conv2d(\n",
    "            in_channels, out_channels, kernel_size=1, stride=1, bias=False\n",
    "        )\n",
    "        self.bn = torch.nn.BatchNorm2d(out_channels)\n",
    "        self.relu = torch.nn.ReLU(inplace=True)\n",
    "\n",
    "    def forward(self, x):\n",
    "        x = self.depthwise(x)\n",
    "        x = self.pointwise(x)\n",
    "        x = self.bn(x)\n",
    "        x = self.relu(x)\n",
    "        return x"
   ]
  },
  {
   "cell_type": "code",
   "execution_count": null,
   "metadata": {},
   "outputs": [],
   "source": [
    "class VolumePreservingCNN(torch.nn.Module):\n",
    "    def __init__(self, num_classes=10):\n",
    "        super(VolumePreservingCNN, self).__init__()\n",
    "        self.block1 = DepthwiseSeparableConv(in_channels=3, out_channels=12)\n",
    "        self.pool1 = torch.nn.MaxPool2d(kernel_size=2, stride=2)\n",
    "        self.block2 = DepthwiseSeparableConv(in_channels=12, out_channels=48)\n",
    "        self.pool2 = torch.nn.MaxPool2d(kernel_size=2, stride=2)\n",
    "        self.block3 = DepthwiseSeparableConv(in_channels=48, out_channels=192)\n",
    "        self.pool3 = torch.nn.MaxPool2d(kernel_size=2, stride=2)\n",
    "        self.block4 = DepthwiseSeparableConv(in_channels=192, out_channels=768)\n",
    "        self.pool4 = torch.nn.MaxPool2d(kernel_size=2, stride=2)\n",
    "        self.block5 = DepthwiseSeparableConv(in_channels=768, out_channels=3072)\n",
    "        self.pool5 = torch.nn.MaxPool2d(kernel_size=2, stride=2)\n",
    "        self.global_pool = torch.nn.AdaptiveMaxPool2d((1, 1))\n",
    "        self.fc = torch.nn.Linear(3072, num_classes)\n",
    "\n",
    "    def forward(self, x):\n",
    "        x = self.block1(x)\n",
    "        x = self.pool1(x)\n",
    "        x = self.block2(x)\n",
    "        x = self.pool2(x)\n",
    "        x = self.block3(x)\n",
    "        x = self.pool3(x)\n",
    "        x = self.block4(x)\n",
    "        x = self.pool4(x)\n",
    "        x = self.block5(x)\n",
    "        x = self.pool5(x)\n",
    "        x = self.global_pool(x)\n",
    "        x = torch.flatten(x, start_dim=1)\n",
    "        out = self.fc(x)\n",
    "        return out"
   ]
  }
 ],
 "metadata": {
  "kernelspec": {
   "display_name": "venv",
   "language": "python",
   "name": "python3"
  },
  "language_info": {
   "codemirror_mode": {
    "name": "ipython",
    "version": 3
   },
   "file_extension": ".py",
   "mimetype": "text/x-python",
   "name": "python",
   "nbconvert_exporter": "python",
   "pygments_lexer": "ipython3",
   "version": "3.11.7"
  }
 },
 "nbformat": 4,
 "nbformat_minor": 2
}
